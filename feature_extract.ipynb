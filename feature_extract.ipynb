{
 "cells": [
  {
   "cell_type": "code",
   "execution_count": 1,
   "metadata": {},
   "outputs": [
    {
     "name": "stderr",
     "output_type": "stream",
     "text": [
      "C:\\Users\\krithivarsha\\AppData\\Roaming\\Python\\Python311\\site-packages\\skimage\\metrics\\simple_metrics.py:163: RuntimeWarning: divide by zero encountered in scalar divide\n",
      "  return 10 * np.log10((data_range ** 2) / err)\n"
     ]
    },
    {
     "ename": "KeyboardInterrupt",
     "evalue": "",
     "output_type": "error",
     "traceback": [
      "\u001b[1;31m---------------------------------------------------------------------------\u001b[0m",
      "\u001b[1;31mKeyboardInterrupt\u001b[0m                         Traceback (most recent call last)",
      "\u001b[1;32mc:\\Users\\krithivarsha\\.spyder-py3\\feature_extract.ipynb Cell 1\u001b[0m line \u001b[0;36m4\n\u001b[0;32m     <a href='vscode-notebook-cell:/c%3A/Users/krithivarsha/.spyder-py3/feature_extract.ipynb#W0sZmlsZQ%3D%3D?line=44'>45</a>\u001b[0m \u001b[39mif\u001b[39;00m filename\u001b[39m.\u001b[39mendswith((\u001b[39m'\u001b[39m\u001b[39m.jpg\u001b[39m\u001b[39m'\u001b[39m, \u001b[39m'\u001b[39m\u001b[39m.jpeg\u001b[39m\u001b[39m'\u001b[39m, \u001b[39m'\u001b[39m\u001b[39m.png\u001b[39m\u001b[39m'\u001b[39m)):\n\u001b[0;32m     <a href='vscode-notebook-cell:/c%3A/Users/krithivarsha/.spyder-py3/feature_extract.ipynb#W0sZmlsZQ%3D%3D?line=45'>46</a>\u001b[0m     \u001b[39m# Load the image\u001b[39;00m\n\u001b[0;32m     <a href='vscode-notebook-cell:/c%3A/Users/krithivarsha/.spyder-py3/feature_extract.ipynb#W0sZmlsZQ%3D%3D?line=46'>47</a>\u001b[0m     image_path \u001b[39m=\u001b[39m os\u001b[39m.\u001b[39mpath\u001b[39m.\u001b[39mjoin(folder_path, filename)\n\u001b[1;32m---> <a href='vscode-notebook-cell:/c%3A/Users/krithivarsha/.spyder-py3/feature_extract.ipynb#W0sZmlsZQ%3D%3D?line=47'>48</a>\u001b[0m     image \u001b[39m=\u001b[39m io\u001b[39m.\u001b[39;49mimread(image_path, as_gray\u001b[39m=\u001b[39;49m\u001b[39mTrue\u001b[39;49;00m)\n\u001b[0;32m     <a href='vscode-notebook-cell:/c%3A/Users/krithivarsha/.spyder-py3/feature_extract.ipynb#W0sZmlsZQ%3D%3D?line=49'>50</a>\u001b[0m     \u001b[39m# Calculate GLCM features\u001b[39;00m\n\u001b[0;32m     <a href='vscode-notebook-cell:/c%3A/Users/krithivarsha/.spyder-py3/feature_extract.ipynb#W0sZmlsZQ%3D%3D?line=50'>51</a>\u001b[0m     homogeneity_value, dissimilarity_value, correlation_value, coarseness_value \u001b[39m=\u001b[39m calculate_glcm_features(image)\n",
      "File \u001b[1;32m~\\AppData\\Roaming\\Python\\Python311\\site-packages\\skimage\\io\\_io.py:53\u001b[0m, in \u001b[0;36mimread\u001b[1;34m(fname, as_gray, plugin, **plugin_args)\u001b[0m\n\u001b[0;32m     50\u001b[0m         plugin \u001b[39m=\u001b[39m \u001b[39m'\u001b[39m\u001b[39mtifffile\u001b[39m\u001b[39m'\u001b[39m\n\u001b[0;32m     52\u001b[0m \u001b[39mwith\u001b[39;00m file_or_url_context(fname) \u001b[39mas\u001b[39;00m fname:\n\u001b[1;32m---> 53\u001b[0m     img \u001b[39m=\u001b[39m call_plugin(\u001b[39m'\u001b[39;49m\u001b[39mimread\u001b[39;49m\u001b[39m'\u001b[39;49m, fname, plugin\u001b[39m=\u001b[39;49mplugin, \u001b[39m*\u001b[39;49m\u001b[39m*\u001b[39;49mplugin_args)\n\u001b[0;32m     55\u001b[0m \u001b[39mif\u001b[39;00m \u001b[39mnot\u001b[39;00m \u001b[39mhasattr\u001b[39m(img, \u001b[39m'\u001b[39m\u001b[39mndim\u001b[39m\u001b[39m'\u001b[39m):\n\u001b[0;32m     56\u001b[0m     \u001b[39mreturn\u001b[39;00m img\n",
      "File \u001b[1;32m~\\AppData\\Roaming\\Python\\Python311\\site-packages\\skimage\\io\\manage_plugins.py:205\u001b[0m, in \u001b[0;36mcall_plugin\u001b[1;34m(kind, *args, **kwargs)\u001b[0m\n\u001b[0;32m    202\u001b[0m     \u001b[39mexcept\u001b[39;00m \u001b[39mIndexError\u001b[39;00m:\n\u001b[0;32m    203\u001b[0m         \u001b[39mraise\u001b[39;00m \u001b[39mRuntimeError\u001b[39;00m(\u001b[39mf\u001b[39m\u001b[39m'\u001b[39m\u001b[39mCould not find the plugin \u001b[39m\u001b[39m\"\u001b[39m\u001b[39m{\u001b[39;00mplugin\u001b[39m}\u001b[39;00m\u001b[39m\"\u001b[39m\u001b[39m for \u001b[39m\u001b[39m{\u001b[39;00mkind\u001b[39m}\u001b[39;00m\u001b[39m.\u001b[39m\u001b[39m'\u001b[39m)\n\u001b[1;32m--> 205\u001b[0m \u001b[39mreturn\u001b[39;00m func(\u001b[39m*\u001b[39;49margs, \u001b[39m*\u001b[39;49m\u001b[39m*\u001b[39;49mkwargs)\n",
      "File \u001b[1;32m~\\AppData\\Roaming\\Python\\Python311\\site-packages\\skimage\\io\\_plugins\\imageio_plugin.py:11\u001b[0m, in \u001b[0;36mimread\u001b[1;34m(*args, **kwargs)\u001b[0m\n\u001b[0;32m      9\u001b[0m \u001b[39m@wraps\u001b[39m(imageio_imread)\n\u001b[0;32m     10\u001b[0m \u001b[39mdef\u001b[39;00m \u001b[39mimread\u001b[39m(\u001b[39m*\u001b[39margs, \u001b[39m*\u001b[39m\u001b[39m*\u001b[39mkwargs):\n\u001b[1;32m---> 11\u001b[0m     out \u001b[39m=\u001b[39m np\u001b[39m.\u001b[39masarray(imageio_imread(\u001b[39m*\u001b[39;49margs, \u001b[39m*\u001b[39;49m\u001b[39m*\u001b[39;49mkwargs))\n\u001b[0;32m     12\u001b[0m     \u001b[39mif\u001b[39;00m \u001b[39mnot\u001b[39;00m out\u001b[39m.\u001b[39mflags[\u001b[39m'\u001b[39m\u001b[39mWRITEABLE\u001b[39m\u001b[39m'\u001b[39m]:\n\u001b[0;32m     13\u001b[0m         out \u001b[39m=\u001b[39m out\u001b[39m.\u001b[39mcopy()\n",
      "File \u001b[1;32m~\\AppData\\Roaming\\Python\\Python311\\site-packages\\imageio\\v3.py:53\u001b[0m, in \u001b[0;36mimread\u001b[1;34m(uri, index, plugin, extension, format_hint, **kwargs)\u001b[0m\n\u001b[0;32m     50\u001b[0m \u001b[39mif\u001b[39;00m index \u001b[39mis\u001b[39;00m \u001b[39mnot\u001b[39;00m \u001b[39mNone\u001b[39;00m:\n\u001b[0;32m     51\u001b[0m     call_kwargs[\u001b[39m\"\u001b[39m\u001b[39mindex\u001b[39m\u001b[39m\"\u001b[39m] \u001b[39m=\u001b[39m index\n\u001b[1;32m---> 53\u001b[0m \u001b[39mwith\u001b[39;00m imopen(uri, \u001b[39m\"\u001b[39;49m\u001b[39mr\u001b[39;49m\u001b[39m\"\u001b[39;49m, \u001b[39m*\u001b[39;49m\u001b[39m*\u001b[39;49mplugin_kwargs) \u001b[39mas\u001b[39;00m img_file:\n\u001b[0;32m     54\u001b[0m     \u001b[39mreturn\u001b[39;00m np\u001b[39m.\u001b[39masarray(img_file\u001b[39m.\u001b[39mread(\u001b[39m*\u001b[39m\u001b[39m*\u001b[39mcall_kwargs))\n",
      "File \u001b[1;32m~\\AppData\\Roaming\\Python\\Python311\\site-packages\\imageio\\core\\imopen.py:196\u001b[0m, in \u001b[0;36mimopen\u001b[1;34m(uri, io_mode, plugin, extension, format_hint, legacy_mode, **kwargs)\u001b[0m\n\u001b[0;32m    193\u001b[0m     \u001b[39mcontinue\u001b[39;00m\n\u001b[0;32m    195\u001b[0m \u001b[39mtry\u001b[39;00m:\n\u001b[1;32m--> 196\u001b[0m     plugin_instance \u001b[39m=\u001b[39m candidate_plugin(request, \u001b[39m*\u001b[39;49m\u001b[39m*\u001b[39;49mkwargs)\n\u001b[0;32m    197\u001b[0m \u001b[39mexcept\u001b[39;00m InitializationError:\n\u001b[0;32m    198\u001b[0m     \u001b[39m# file extension doesn't match file type\u001b[39;00m\n\u001b[0;32m    199\u001b[0m     \u001b[39mcontinue\u001b[39;00m\n",
      "File \u001b[1;32m~\\AppData\\Roaming\\Python\\Python311\\site-packages\\imageio\\plugins\\pillow.py:91\u001b[0m, in \u001b[0;36mPillowPlugin.__init__\u001b[1;34m(self, request)\u001b[0m\n\u001b[0;32m     89\u001b[0m \u001b[39mif\u001b[39;00m request\u001b[39m.\u001b[39mmode\u001b[39m.\u001b[39mio_mode \u001b[39m==\u001b[39m IOMode\u001b[39m.\u001b[39mread:\n\u001b[0;32m     90\u001b[0m     \u001b[39mtry\u001b[39;00m:\n\u001b[1;32m---> 91\u001b[0m         \u001b[39mwith\u001b[39;00m Image\u001b[39m.\u001b[39mopen(request\u001b[39m.\u001b[39;49mget_file()):\n\u001b[0;32m     92\u001b[0m             \u001b[39m# Check if it is generally possible to read the image.\u001b[39;00m\n\u001b[0;32m     93\u001b[0m             \u001b[39m# This will not read any data and merely try to find a\u001b[39;00m\n\u001b[0;32m     94\u001b[0m             \u001b[39m# compatible pillow plugin (ref: the pillow docs).\u001b[39;00m\n\u001b[0;32m     95\u001b[0m             \u001b[39mpass\u001b[39;00m\n\u001b[0;32m     96\u001b[0m     \u001b[39mexcept\u001b[39;00m UnidentifiedImageError:\n",
      "File \u001b[1;32m~\\AppData\\Roaming\\Python\\Python311\\site-packages\\imageio\\core\\request.py:492\u001b[0m, in \u001b[0;36mRequest.get_file\u001b[1;34m(self)\u001b[0m\n\u001b[0;32m    490\u001b[0m         \u001b[39mself\u001b[39m\u001b[39m.\u001b[39m_file \u001b[39m=\u001b[39m \u001b[39mopen\u001b[39m(\u001b[39mself\u001b[39m\u001b[39m.\u001b[39mfilename, \u001b[39m\"\u001b[39m\u001b[39mwb\u001b[39m\u001b[39m\"\u001b[39m)\n\u001b[0;32m    491\u001b[0m     \u001b[39melse\u001b[39;00m:\n\u001b[1;32m--> 492\u001b[0m         \u001b[39mself\u001b[39m\u001b[39m.\u001b[39m_file \u001b[39m=\u001b[39m \u001b[39mopen\u001b[39m(\u001b[39mself\u001b[39m\u001b[39m.\u001b[39mfilename, \u001b[39m\"\u001b[39m\u001b[39mrb\u001b[39m\u001b[39m\"\u001b[39m)\n\u001b[0;32m    494\u001b[0m \u001b[39melif\u001b[39;00m \u001b[39mself\u001b[39m\u001b[39m.\u001b[39m_uri_type \u001b[39m==\u001b[39m URI_ZIPPED:\n\u001b[0;32m    495\u001b[0m     \u001b[39m# Get the correct filename\u001b[39;00m\n\u001b[0;32m    496\u001b[0m     filename, name \u001b[39m=\u001b[39m \u001b[39mself\u001b[39m\u001b[39m.\u001b[39m_filename_zip\n",
      "\u001b[1;31mKeyboardInterrupt\u001b[0m: "
     ]
    }
   ],
   "source": [
    "import os\n",
    "import cv2\n",
    "import numpy as np\n",
    "from skimage import io, exposure\n",
    "from skimage.metrics import peak_signal_noise_ratio, structural_similarity\n",
    "import csv\n",
    "\n",
    "# Function to calculate GLCM features\n",
    "def calculate_glcm_features(image):\n",
    "    # Convert image to 8-bit (if necessary)\n",
    "    image = exposure.rescale_intensity(image, out_range='uint8')\n",
    "\n",
    "    # Calculate GLCM\n",
    "    glcm = cv2.calcHist([image], [0], None, [256], [0, 256])\n",
    "    glcm = cv2.normalize(glcm, glcm).flatten()\n",
    "\n",
    "    # Calculate homogeneity, dissimilarity, correlation, and coarseness\n",
    "    homogeneity = np.sum(glcm / (1 + np.arange(0, glcm.shape[0]))[:, None, None])\n",
    "    \n",
    "    # Correct the dissimilarity calculation\n",
    "    dissimilarity = np.sum(np.abs(np.arange(0, glcm.shape[0])[:, None, None] - np.arange(0, glcm.shape[0])[None, None, :]) * glcm)\n",
    "    \n",
    "    correlation = np.sum(((np.arange(0, glcm.shape[0]) - np.mean(glcm)) / np.std(glcm))[:, None, None] * glcm)\n",
    "    coarseness = np.sum(glcm * (np.arange(0, glcm.shape[0]) - np.arange(0, glcm.shape[0]))[:, None, None])\n",
    "\n",
    "    return homogeneity, dissimilarity, correlation, coarseness\n",
    "\n",
    "# Path to the folder containing images\n",
    "folder_path = r\"C:\\Users\\krithivarsha\\.spyder-py3\\Brain Tumor\"\n",
    "\n",
    "# Output CSV file path\n",
    "csv_file_path = r\"C:\\Users\\krithivarsha\\.spyder-py3\\4.csv\"\n",
    "\n",
    "# Create or overwrite the CSV file\n",
    "with open(csv_file_path, 'w', newline='') as csvfile:\n",
    "    csv_writer = csv.writer(csvfile)\n",
    "    \n",
    "    # Write header\n",
    "    header = ['Mean', 'Variance', 'Standard Deviation', 'Entropy', 'Kurtosis', 'Skewness', 'Contrast', 'Energy', 'ASM',\n",
    "              'Homogeneity', 'Dissimilarity', 'Correlation', 'Coarseness', 'PSNR', 'SSIM', 'MSE', 'DC']\n",
    "    csv_writer.writerow(header)\n",
    "    \n",
    "    # Loop through all images in the folder\n",
    "    for filename in os.listdir(folder_path):\n",
    "        if filename.endswith(('.jpg', '.jpeg', '.png')):\n",
    "            # Load the image\n",
    "            image_path = os.path.join(folder_path, filename)\n",
    "            image = io.imread(image_path, as_gray=True)\n",
    "            \n",
    "            # Calculate GLCM features\n",
    "            homogeneity_value, dissimilarity_value, correlation_value, coarseness_value = calculate_glcm_features(image)\n",
    "            \n",
    "            # Calculate mean, variance, standard deviation, entropy, kurtosis, skewness, contrast, energy, ASM\n",
    "            mean_value = np.mean(image)\n",
    "            variance_value = np.var(image)\n",
    "            std_deviation_value = np.std(image)\n",
    "            entropy_value = -np.sum(image * np.log2(image + 1e-10))\n",
    "            kurtosis_value = np.mean(((image - mean_value) / np.std(image))**4) - 3\n",
    "            skewness_value = np.mean(((image - mean_value) / np.std(image))**3)\n",
    "            contrast_value = np.mean((image - mean_value)**2)\n",
    "            energy_value = np.sum(image**2)\n",
    "            asm_value = energy_value / image.size\n",
    "            \n",
    "            # Calculate PSNR, SSIM, MSE, and DC\n",
    "            original_image = cv2.imread(image_path, cv2.IMREAD_GRAYSCALE)\n",
    "            image = cv2.resize(image, (original_image.shape[1], original_image.shape[0]))\n",
    "            psnr_value = peak_signal_noise_ratio(original_image, image, data_range=255)\n",
    "            ssim_value, _ = structural_similarity(original_image, image, full=True, data_range=255)\n",
    "            mse_value = np.mean((original_image - image)**2)\n",
    "            dc_value = np.sum(np.minimum(original_image, image)) / np.sum(original_image)\n",
    "            \n",
    "            # Write the values to the CSV file\n",
    "            row = [mean_value, variance_value, std_deviation_value, entropy_value, kurtosis_value, skewness_value,\n",
    "                   contrast_value, energy_value, asm_value, homogeneity_value, dissimilarity_value, correlation_value,\n",
    "                   coarseness_value, psnr_value, ssim_value, mse_value, dc_value]\n",
    "            csv_writer.writerow(row)\n",
    "\n",
    "print(f\"Features saved to {csv_file_path}\")"
   ]
  }
 ],
 "metadata": {
  "kernelspec": {
   "display_name": "Python 3",
   "language": "python",
   "name": "python3"
  },
  "language_info": {
   "codemirror_mode": {
    "name": "ipython",
    "version": 3
   },
   "file_extension": ".py",
   "mimetype": "text/x-python",
   "name": "python",
   "nbconvert_exporter": "python",
   "pygments_lexer": "ipython3",
   "version": "3.11.4"
  }
 },
 "nbformat": 4,
 "nbformat_minor": 2
}
